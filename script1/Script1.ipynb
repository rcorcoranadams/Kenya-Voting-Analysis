{
  "nbformat": 4,
  "nbformat_minor": 0,
  "metadata": {
    "colab": {
      "name": "Script1",
      "provenance": [],
      "collapsed_sections": [],
      "include_colab_link": true
    },
    "kernelspec": {
      "name": "python3",
      "display_name": "Python 3"
    }
  },
  "cells": [
    {
      "cell_type": "markdown",
      "metadata": {
        "id": "view-in-github",
        "colab_type": "text"
      },
      "source": [
        "<a href=\"https://colab.research.google.com/github/IDCE-MSGIS/final-project-team-1/blob/master/Script1.ipynb\" target=\"_parent\"><img src=\"https://colab.research.google.com/assets/colab-badge.svg\" alt=\"Open In Colab\"/></a>"
      ]
    },
    {
      "cell_type": "code",
      "metadata": {
        "id": "O9dbgQGi849H",
        "outputId": "cd08ae04-930c-4ac0-fbbd-30d100504cce",
        "colab": {
          "base_uri": "https://localhost:8080/",
          "height": 208
        }
      },
      "source": [
        "'''\n",
        "Rachel Corcoran-Adams and Emily Patterson\n",
        "Python: 3.5\n",
        "Date: September 30, 2020\n",
        "Final Project Script 2: Web-scraping Weather Forecast with Python\n",
        "Time Spent: 2 hours\n",
        "The inputs are user given latitude and longitude and the outputs are the weather conditions based on the requested location.\n",
        "'''\n",
        "\n",
        "# import required libraries\n",
        "import requests\n",
        "from bs4 import BeautifulSoup\n",
        "\n",
        "# Create an empty list to store response\n",
        "forecast = []\n",
        "\n",
        "## Provides the latitude and longitude for the location you would like to check the forecast for\n",
        "lat = str(input(\"The latitude: \"))\n",
        "lon = str(input(\"The longitude: \"))\n",
        "\n",
        "# Create url for the requested location through string concatenation\n",
        "url = 'https://forecast.weather.gov/MapClick.php?lat='+lat+\"&lon=\"+lon\n",
        "\n",
        "# Send request to retrieve the web-page using the get() function from the requests library\n",
        "# The page variable stores the response from the web-page\n",
        "page = requests.get(url)\n",
        "\n",
        "# Create a BeautifulSoup object with the response from the URL\n",
        "# Access contents of the web-page using .content\n",
        "# html_parser is used since our page is in HTML format\n",
        "soup=BeautifulSoup(page.content,\"html.parser\")\n",
        "\n",
        "# Locate elements on page to be scraped\n",
        "# findAll() locates all occurrences of div tag with the given class name\n",
        "# stores it in the BeautifulSoup object\n",
        "weather_forecast = soup.findAll(\"li\", {\"class\": \"forecast-tombstone\"})\n",
        "\n",
        "# Loop through the BeautifulSoup object to extract text text from every class instance using .text\n",
        "# This for loop stores the results in a list\n",
        "for i in weather_forecast:\n",
        "    i = i.text\n",
        "    forecast.append(i)\n",
        "\n",
        "# Print list to remove unicode characters\n",
        "# This line imports library re\n",
        "import re\n",
        "# These lines create a for loop that edits the spaces in the forecast details\n",
        "for day in forecast:\n",
        "  day = day.replace('\\n\\n','')\n",
        "  day = day.replace('\\n',':') \n",
        "  # This line addz spaces between concatinated words based on capitalization \n",
        "  day = day.replace(day,(re.sub('([A-Z])', r' \\1', day))) \n",
        "  # This line replaces double spaces with single space\n",
        "  day = day.replace(\"  \",\" \")     \n",
        "  # These lines add commas, and replaces \" Low\", \"High\", and \"then\" to have a comma before                        \n",
        "  day = day.replace(\" Low\",\", Low\")                       \n",
        "  day = day.replace(\" High\",\", High\")\n",
        "  day = day.replace('then', ' then')\n",
        "  # This line prints the forecast of the day and make sthem all uppercase\n",
        "  print(day.upper())\n"
      ],
      "execution_count": null,
      "outputs": [
        {
          "output_type": "stream",
          "text": [
            "The latitude: 42.2634\n",
            "The longitude: -71.8022\n",
            " TONIGHT: PARTLY CLOUDY, LOW: 49 ° F\n",
            " TUESDAY: SLIGHT CHANCE SHOWERS, HIGH: 65 ° F\n",
            " TUESDAY NIGHT: PARTLY CLOUDY, LOW: 53 ° F\n",
            " WEDNESDAY: PARTLY SUNNY THEN CHANCE SHOWERS, HIGH: 69 ° F\n",
            " WEDNESDAY NIGHT: CHANCE SHOWERS  THEN MOSTLY CLEAR, LOW: 48 ° F\n",
            " THURSDAY: SUNNY, HIGH: 58 ° F\n",
            " THURSDAY NIGHT: CLEAR, LOW: 37 ° F\n",
            " FRIDAY: SUNNY, HIGH: 59 ° F\n",
            " FRIDAY NIGHT: MOSTLY CLEAR, LOW: 45 ° F\n"
          ],
          "name": "stdout"
        }
      ]
    }
  ]
}
