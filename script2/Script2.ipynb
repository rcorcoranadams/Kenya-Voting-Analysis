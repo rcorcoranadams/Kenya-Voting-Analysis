{
  "nbformat": 4,
  "nbformat_minor": 0,
  "metadata": {
    "colab": {
      "name": "Script2.ipynb",
      "provenance": [],
      "collapsed_sections": [],
      "include_colab_link": true
    },
    "kernelspec": {
      "name": "python3",
      "display_name": "Python 3"
    }
  },
  "cells": [
    {
      "cell_type": "markdown",
      "metadata": {
        "id": "view-in-github",
        "colab_type": "text"
      },
      "source": [
        "<a href=\"https://colab.research.google.com/github/IDCE-MSGIS/final-project-team-1/blob/master/Script2.ipynb\" target=\"_parent\"><img src=\"https://colab.research.google.com/assets/colab-badge.svg\" alt=\"Open In Colab\"/></a>"
      ]
    },
    {
      "cell_type": "code",
      "metadata": {
        "id": "ln4MC29qDCkg",
        "outputId": "18d9b516-7353-4bec-e32b-73ddd101e1d9",
        "colab": {
          "base_uri": "https://localhost:8080/",
          "height": 275
        }
      },
      "source": [
        "'''Rachel Corcoran-Adams and Emily Patterson\n",
        "Python Version 3.6\n",
        "Date: October 6, 2020\n",
        "Final Project Script 2: Analyzing a survey\n",
        "Time spent: 6 hours\n",
        "This code first imports a text file from Google Drive and then runs two different\n",
        "code blocks to process the data. The second code block cleans up the data and \n",
        "asks returns the number of votes for a user inputed county. The third code block \n",
        "creates three functions that clean up the data, determine which voters voted twice\n",
        "and then finally produces the total counts of votes for each county. '''\n",
        "\n",
        "#Installs the PyDrive library\n",
        "!pip install PyDrive\n",
        "from pydrive.auth import GoogleAuth\n",
        "from pydrive.drive import GoogleDrive\n",
        "from google.colab import auth\n",
        "from oauth2client.client import GoogleCredentials\n",
        "# Authenticates and creates the PyDrive user\n",
        "auth.authenticate_user()\n",
        "gauth = GoogleAuth()\n",
        "gauth.credentials = GoogleCredentials.get_application_default()\n",
        "drive = GoogleDrive(gauth)\n",
        "# downloads the google drive file\n",
        "downloaded = drive.CreateFile({'id':\"1Ff10S-9aGxFfowYvtQZ0L6Na_JTU5nz7\"})   #id refers to specific google drive id\n",
        "downloaded.GetContentFile('KEcounty_votes.txt')\n",
        "#imports the pandas library and puts the text file into the dataframe\n",
        "import pandas as pd\n",
        "data = pd.read_csv('KEcounty_votes.txt')"
      ],
      "execution_count": 1,
      "outputs": [
        {
          "output_type": "stream",
          "text": [
            "Requirement already satisfied: PyDrive in /usr/local/lib/python3.6/dist-packages (1.3.1)\n",
            "Requirement already satisfied: google-api-python-client>=1.2 in /usr/local/lib/python3.6/dist-packages (from PyDrive) (1.7.12)\n",
            "Requirement already satisfied: PyYAML>=3.0 in /usr/local/lib/python3.6/dist-packages (from PyDrive) (3.13)\n",
            "Requirement already satisfied: oauth2client>=4.0.0 in /usr/local/lib/python3.6/dist-packages (from PyDrive) (4.1.3)\n",
            "Requirement already satisfied: google-auth>=1.4.1 in /usr/local/lib/python3.6/dist-packages (from google-api-python-client>=1.2->PyDrive) (1.17.2)\n",
            "Requirement already satisfied: httplib2<1dev,>=0.17.0 in /usr/local/lib/python3.6/dist-packages (from google-api-python-client>=1.2->PyDrive) (0.17.4)\n",
            "Requirement already satisfied: six<2dev,>=1.6.1 in /usr/local/lib/python3.6/dist-packages (from google-api-python-client>=1.2->PyDrive) (1.15.0)\n",
            "Requirement already satisfied: uritemplate<4dev,>=3.0.0 in /usr/local/lib/python3.6/dist-packages (from google-api-python-client>=1.2->PyDrive) (3.0.1)\n",
            "Requirement already satisfied: google-auth-httplib2>=0.0.3 in /usr/local/lib/python3.6/dist-packages (from google-api-python-client>=1.2->PyDrive) (0.0.4)\n",
            "Requirement already satisfied: pyasn1>=0.1.7 in /usr/local/lib/python3.6/dist-packages (from oauth2client>=4.0.0->PyDrive) (0.4.8)\n",
            "Requirement already satisfied: pyasn1-modules>=0.0.5 in /usr/local/lib/python3.6/dist-packages (from oauth2client>=4.0.0->PyDrive) (0.2.8)\n",
            "Requirement already satisfied: rsa>=3.1.4 in /usr/local/lib/python3.6/dist-packages (from oauth2client>=4.0.0->PyDrive) (4.6)\n",
            "Requirement already satisfied: setuptools>=40.3.0 in /usr/local/lib/python3.6/dist-packages (from google-auth>=1.4.1->google-api-python-client>=1.2->PyDrive) (50.3.0)\n",
            "Requirement already satisfied: cachetools<5.0,>=2.0.0 in /usr/local/lib/python3.6/dist-packages (from google-auth>=1.4.1->google-api-python-client>=1.2->PyDrive) (4.1.1)\n"
          ],
          "name": "stdout"
        }
      ]
    },
    {
      "cell_type": "code",
      "metadata": {
        "id": "drqesXlAD4bx"
      },
      "source": [
        ""
      ],
      "execution_count": null,
      "outputs": []
    },
    {
      "cell_type": "code",
      "metadata": {
        "id": "wKfef-2WDhAZ",
        "outputId": "af240717-c784-4a78-ec98-30d5ac52ae08",
        "colab": {
          "base_uri": "https://localhost:8080/",
          "height": 68
        }
      },
      "source": [
        "'''This section of code specifies an argument where the name of the county is \n",
        "requested and the function returns the total number of votes for that county.'''\n",
        "\n",
        "#Asks the user a question, \"What county would you like to count votes for?\"\n",
        "county_input = input(\"What county would you like to count votes for? \") \n",
        "#converts the user input into all lowercase letters\n",
        "county_input = county_input.lower()\n",
        "#will print out the answer to the script\n",
        "print(\"Number of votes for\", county_input.title(),\":\") \n",
        "#defines a new fuction\n",
        "def votes_for_county(county_input):  \n",
        "  #assigns a zero value to the variable \n",
        "  count = 0 \n",
        "  #opens the text file that was imported from Google Drive\n",
        "  with open(\"KEcounty_votes.txt\") as file:  \n",
        "    for line in file:\n",
        "      # changes all characters to lowercase and removes all empty spaces from begining and end of a line\n",
        "      line = line.lower().strip() \n",
        "      #splits the line of text at the hyphen\n",
        "      name, vote = line.split(\" - \") \n",
        "      #replaces double empty spaces with one empty space\n",
        "      vote = vote.replace(\"  \", \" \") \n",
        "     #if vote equals the input...\n",
        "      if vote == county_input: \n",
        "        #adds up all counts for the county by adding one\n",
        "        count += 1 \n",
        "    print(count)\n",
        "votes_for_county(county_input)"
      ],
      "execution_count": 4,
      "outputs": [
        {
          "output_type": "stream",
          "text": [
            "What county would you like to count votes for? nairobi county\n",
            "Number of votes for Nairobi County :\n",
            "64\n"
          ],
          "name": "stdout"
        }
      ]
    },
    {
      "cell_type": "code",
      "metadata": {
        "id": "SzZMTrfhDoA4",
        "outputId": "7cecd48e-8a56-403c-f1c6-b788649f628f",
        "colab": {
          "base_uri": "https://localhost:8080/",
          "height": 306
        }
      },
      "source": [
        "'''This script takes the data as a text file and defines three functions. \n",
        "The first one munges the data, the second one checks if anyone voted twice, and\n",
        "and the final function calculates total number of votes for each county'''\n",
        "\n",
        "# Create an empty dictionary for associating county names with vote counts\n",
        "counts = {}\n",
        "voted = []\n",
        "\n",
        "#opens the text file that was imported from Google Drive\n",
        "with open(\"KEcounty_votes.txt\") as file:\n",
        "  #defines a new fuction\n",
        "  def edit_data(): #this function and corresponding script manipulates the data file and prepares it for accurate analysis\n",
        "    # creates three global variables that exist outside of this function\n",
        "    global name\n",
        "    global vote\n",
        "    global line\n",
        "    #munges each line in the data to make it lowercase, remove extra characters and spaces\n",
        "    line = line.lower().strip().replace(\"  \", \" \") \n",
        "    #splits the data at the hyphen into name - vote\n",
        "    name, vote = line.split(\" - \")\n",
        "    return(name,vote)\n",
        "\n",
        "  #defines a new function, votes_for_county()\n",
        "  def votes_for_county():  \n",
        "    #checks if a person has already voted\n",
        "    if name in voted:\n",
        "      print(name.title() + \" voted twice\")\n",
        "    #this checks and modifies the original list \n",
        "    voted.append(name)\n",
        "\n",
        "  #defines a new funciton: total_votes()\n",
        "  def total_votes(): \n",
        "    #first vote for this county\n",
        "    if not vote in counts:\n",
        "      counts[vote]= 1\n",
        "    #if it has already been counted, it will add 1 to additional votes\n",
        "    else: \n",
        "      counts[vote] += 1\n",
        "\n",
        "  #calls each of the three functions\n",
        "  for line in file:\n",
        "    edit_data()\n",
        "    votes_for_county()\n",
        "    total_votes()\n",
        "\n",
        "#prints the word, \"results\"\n",
        "print('\\n',\"Results:\",'\\n')\n",
        "#for the name in the dictionary, capitilize the first letter of a \n",
        "#word and then print the total counts\n",
        "\n",
        "for name in counts:\n",
        "    print(name.title() + \":\" + str(counts[name]))\n"
      ],
      "execution_count": 3,
      "outputs": [
        {
          "output_type": "stream",
          "text": [
            "Phoebe Barwell voted twice\n",
            "Procopio Zito voted twice\n",
            "\n",
            " Results: \n",
            "\n",
            "Homa Bay:72\n",
            "Turkana:76\n",
            "Mombasa County:57\n",
            "Uasin Gishu:63\n",
            "Marsabit:72\n",
            "West Pokot:57\n",
            "Taita Taveta:57\n",
            "Elgeyo Marakwet:56\n",
            "Nyeri:63\n",
            "Nairobi County:65\n",
            "Kisumu:72\n",
            "Mombassa County:1\n"
          ],
          "name": "stdout"
        }
      ]
    }
  ]
}
